{
 "cells": [
  {
   "cell_type": "markdown",
   "metadata": {},
   "source": [
    "### Required Modules"
   ]
  },
  {
   "cell_type": "code",
   "execution_count": 1,
   "metadata": {},
   "outputs": [],
   "source": [
    "import numpy as np\n",
    "import pandas as pd \n",
    "import matplotlib.pyplot as plt\n",
    "import matplotlib.gridspec as gridspec\n",
    "\n",
    "%matplotlib inline"
   ]
  },
  {
   "cell_type": "code",
   "execution_count": 2,
   "metadata": {
    "scrolled": true
   },
   "outputs": [],
   "source": [
    "df = pd.read_csv(\"../data/train_2.csv\")"
   ]
  },
  {
   "cell_type": "code",
   "execution_count": 3,
   "metadata": {},
   "outputs": [
    {
     "data": {
      "text/plain": [
       "Index(['Page', '2015-07-01', '2015-07-02', '2015-07-03', '2015-07-04',\n",
       "       '2015-07-05', '2015-07-06', '2015-07-07', '2015-07-08', '2015-07-09',\n",
       "       ...\n",
       "       '2017-09-01', '2017-09-02', '2017-09-03', '2017-09-04', '2017-09-05',\n",
       "       '2017-09-06', '2017-09-07', '2017-09-08', '2017-09-09', '2017-09-10'],\n",
       "      dtype='object', length=804)"
      ]
     },
     "execution_count": 3,
     "metadata": {},
     "output_type": "execute_result"
    }
   ],
   "source": [
    "df.columns"
   ]
  },
  {
   "cell_type": "code",
   "execution_count": 4,
   "metadata": {
    "scrolled": true
   },
   "outputs": [
    {
     "data": {
      "text/html": [
       "<div>\n",
       "<style scoped>\n",
       "    .dataframe tbody tr th:only-of-type {\n",
       "        vertical-align: middle;\n",
       "    }\n",
       "\n",
       "    .dataframe tbody tr th {\n",
       "        vertical-align: top;\n",
       "    }\n",
       "\n",
       "    .dataframe thead th {\n",
       "        text-align: right;\n",
       "    }\n",
       "</style>\n",
       "<table border=\"1\" class=\"dataframe\">\n",
       "  <thead>\n",
       "    <tr style=\"text-align: right;\">\n",
       "      <th></th>\n",
       "      <th>2015-07-01</th>\n",
       "      <th>2015-07-02</th>\n",
       "      <th>2015-07-03</th>\n",
       "      <th>2015-07-04</th>\n",
       "      <th>2015-07-05</th>\n",
       "      <th>2015-07-06</th>\n",
       "      <th>2015-07-07</th>\n",
       "      <th>2015-07-08</th>\n",
       "      <th>2015-07-09</th>\n",
       "      <th>2015-07-10</th>\n",
       "      <th>...</th>\n",
       "      <th>2017-09-01</th>\n",
       "      <th>2017-09-02</th>\n",
       "      <th>2017-09-03</th>\n",
       "      <th>2017-09-04</th>\n",
       "      <th>2017-09-05</th>\n",
       "      <th>2017-09-06</th>\n",
       "      <th>2017-09-07</th>\n",
       "      <th>2017-09-08</th>\n",
       "      <th>2017-09-09</th>\n",
       "      <th>2017-09-10</th>\n",
       "    </tr>\n",
       "  </thead>\n",
       "  <tbody>\n",
       "    <tr>\n",
       "      <th>count</th>\n",
       "      <td>1.243230e+05</td>\n",
       "      <td>1.242470e+05</td>\n",
       "      <td>1.245190e+05</td>\n",
       "      <td>1.244090e+05</td>\n",
       "      <td>1.244040e+05</td>\n",
       "      <td>1.245800e+05</td>\n",
       "      <td>1.243990e+05</td>\n",
       "      <td>1.247690e+05</td>\n",
       "      <td>1.248190e+05</td>\n",
       "      <td>1.247210e+05</td>\n",
       "      <td>...</td>\n",
       "      <td>1.415430e+05</td>\n",
       "      <td>1.413870e+05</td>\n",
       "      <td>1.413460e+05</td>\n",
       "      <td>1.418680e+05</td>\n",
       "      <td>1.424060e+05</td>\n",
       "      <td>1.432880e+05</td>\n",
       "      <td>1.415960e+05</td>\n",
       "      <td>1.440020e+05</td>\n",
       "      <td>1.417310e+05</td>\n",
       "      <td>1.394850e+05</td>\n",
       "    </tr>\n",
       "    <tr>\n",
       "      <th>mean</th>\n",
       "      <td>1.195857e+03</td>\n",
       "      <td>1.204004e+03</td>\n",
       "      <td>1.133676e+03</td>\n",
       "      <td>1.170437e+03</td>\n",
       "      <td>1.217769e+03</td>\n",
       "      <td>1.290273e+03</td>\n",
       "      <td>1.239137e+03</td>\n",
       "      <td>1.193092e+03</td>\n",
       "      <td>1.197992e+03</td>\n",
       "      <td>1.189651e+03</td>\n",
       "      <td>...</td>\n",
       "      <td>1.036314e+03</td>\n",
       "      <td>1.024713e+03</td>\n",
       "      <td>1.174865e+03</td>\n",
       "      <td>1.175681e+03</td>\n",
       "      <td>1.138931e+03</td>\n",
       "      <td>1.202851e+03</td>\n",
       "      <td>1.276387e+03</td>\n",
       "      <td>9.496720e+02</td>\n",
       "      <td>9.338783e+02</td>\n",
       "      <td>1.017055e+03</td>\n",
       "    </tr>\n",
       "    <tr>\n",
       "      <th>std</th>\n",
       "      <td>7.275352e+04</td>\n",
       "      <td>7.421515e+04</td>\n",
       "      <td>6.961022e+04</td>\n",
       "      <td>7.257351e+04</td>\n",
       "      <td>7.379612e+04</td>\n",
       "      <td>8.054448e+04</td>\n",
       "      <td>7.576288e+04</td>\n",
       "      <td>6.820002e+04</td>\n",
       "      <td>7.149717e+04</td>\n",
       "      <td>7.214536e+04</td>\n",
       "      <td>...</td>\n",
       "      <td>4.999129e+04</td>\n",
       "      <td>5.713222e+04</td>\n",
       "      <td>6.743460e+04</td>\n",
       "      <td>6.915052e+04</td>\n",
       "      <td>6.646815e+04</td>\n",
       "      <td>6.386384e+04</td>\n",
       "      <td>6.726099e+04</td>\n",
       "      <td>5.048330e+04</td>\n",
       "      <td>4.536524e+04</td>\n",
       "      <td>5.704368e+04</td>\n",
       "    </tr>\n",
       "    <tr>\n",
       "      <th>min</th>\n",
       "      <td>0.000000e+00</td>\n",
       "      <td>0.000000e+00</td>\n",
       "      <td>0.000000e+00</td>\n",
       "      <td>0.000000e+00</td>\n",
       "      <td>0.000000e+00</td>\n",
       "      <td>0.000000e+00</td>\n",
       "      <td>0.000000e+00</td>\n",
       "      <td>0.000000e+00</td>\n",
       "      <td>0.000000e+00</td>\n",
       "      <td>0.000000e+00</td>\n",
       "      <td>...</td>\n",
       "      <td>0.000000e+00</td>\n",
       "      <td>0.000000e+00</td>\n",
       "      <td>0.000000e+00</td>\n",
       "      <td>0.000000e+00</td>\n",
       "      <td>0.000000e+00</td>\n",
       "      <td>0.000000e+00</td>\n",
       "      <td>0.000000e+00</td>\n",
       "      <td>0.000000e+00</td>\n",
       "      <td>0.000000e+00</td>\n",
       "      <td>0.000000e+00</td>\n",
       "    </tr>\n",
       "    <tr>\n",
       "      <th>25%</th>\n",
       "      <td>1.300000e+01</td>\n",
       "      <td>1.300000e+01</td>\n",
       "      <td>1.200000e+01</td>\n",
       "      <td>1.300000e+01</td>\n",
       "      <td>1.400000e+01</td>\n",
       "      <td>1.100000e+01</td>\n",
       "      <td>1.300000e+01</td>\n",
       "      <td>1.300000e+01</td>\n",
       "      <td>1.400000e+01</td>\n",
       "      <td>1.400000e+01</td>\n",
       "      <td>...</td>\n",
       "      <td>2.100000e+01</td>\n",
       "      <td>1.900000e+01</td>\n",
       "      <td>1.900000e+01</td>\n",
       "      <td>1.800000e+01</td>\n",
       "      <td>1.800000e+01</td>\n",
       "      <td>1.800000e+01</td>\n",
       "      <td>2.300000e+01</td>\n",
       "      <td>1.800000e+01</td>\n",
       "      <td>1.800000e+01</td>\n",
       "      <td>1.800000e+01</td>\n",
       "    </tr>\n",
       "    <tr>\n",
       "      <th>50%</th>\n",
       "      <td>1.090000e+02</td>\n",
       "      <td>1.080000e+02</td>\n",
       "      <td>1.050000e+02</td>\n",
       "      <td>1.050000e+02</td>\n",
       "      <td>1.130000e+02</td>\n",
       "      <td>1.130000e+02</td>\n",
       "      <td>1.150000e+02</td>\n",
       "      <td>1.170000e+02</td>\n",
       "      <td>1.150000e+02</td>\n",
       "      <td>1.130000e+02</td>\n",
       "      <td>...</td>\n",
       "      <td>1.250000e+02</td>\n",
       "      <td>1.260000e+02</td>\n",
       "      <td>1.320000e+02</td>\n",
       "      <td>1.230000e+02</td>\n",
       "      <td>1.210000e+02</td>\n",
       "      <td>1.190000e+02</td>\n",
       "      <td>1.365000e+02</td>\n",
       "      <td>1.150000e+02</td>\n",
       "      <td>1.200000e+02</td>\n",
       "      <td>1.250000e+02</td>\n",
       "    </tr>\n",
       "    <tr>\n",
       "      <th>75%</th>\n",
       "      <td>5.240000e+02</td>\n",
       "      <td>5.190000e+02</td>\n",
       "      <td>5.040000e+02</td>\n",
       "      <td>4.870000e+02</td>\n",
       "      <td>5.400000e+02</td>\n",
       "      <td>5.550000e+02</td>\n",
       "      <td>5.510000e+02</td>\n",
       "      <td>5.540000e+02</td>\n",
       "      <td>5.490000e+02</td>\n",
       "      <td>5.450000e+02</td>\n",
       "      <td>...</td>\n",
       "      <td>5.090000e+02</td>\n",
       "      <td>5.140000e+02</td>\n",
       "      <td>5.610000e+02</td>\n",
       "      <td>5.360000e+02</td>\n",
       "      <td>5.300000e+02</td>\n",
       "      <td>5.320000e+02</td>\n",
       "      <td>5.760000e+02</td>\n",
       "      <td>5.040000e+02</td>\n",
       "      <td>5.160000e+02</td>\n",
       "      <td>5.480000e+02</td>\n",
       "    </tr>\n",
       "    <tr>\n",
       "      <th>max</th>\n",
       "      <td>2.038124e+07</td>\n",
       "      <td>2.075219e+07</td>\n",
       "      <td>1.957397e+07</td>\n",
       "      <td>2.043964e+07</td>\n",
       "      <td>2.077211e+07</td>\n",
       "      <td>2.254467e+07</td>\n",
       "      <td>2.121089e+07</td>\n",
       "      <td>1.910791e+07</td>\n",
       "      <td>1.999385e+07</td>\n",
       "      <td>2.020182e+07</td>\n",
       "      <td>...</td>\n",
       "      <td>1.372256e+07</td>\n",
       "      <td>1.578888e+07</td>\n",
       "      <td>1.856151e+07</td>\n",
       "      <td>1.906250e+07</td>\n",
       "      <td>1.839517e+07</td>\n",
       "      <td>1.749919e+07</td>\n",
       "      <td>1.827305e+07</td>\n",
       "      <td>1.411666e+07</td>\n",
       "      <td>1.269626e+07</td>\n",
       "      <td>1.573111e+07</td>\n",
       "    </tr>\n",
       "  </tbody>\n",
       "</table>\n",
       "<p>8 rows × 803 columns</p>\n",
       "</div>"
      ],
      "text/plain": [
       "         2015-07-01    2015-07-02    2015-07-03    2015-07-04    2015-07-05  \\\n",
       "count  1.243230e+05  1.242470e+05  1.245190e+05  1.244090e+05  1.244040e+05   \n",
       "mean   1.195857e+03  1.204004e+03  1.133676e+03  1.170437e+03  1.217769e+03   \n",
       "std    7.275352e+04  7.421515e+04  6.961022e+04  7.257351e+04  7.379612e+04   \n",
       "min    0.000000e+00  0.000000e+00  0.000000e+00  0.000000e+00  0.000000e+00   \n",
       "25%    1.300000e+01  1.300000e+01  1.200000e+01  1.300000e+01  1.400000e+01   \n",
       "50%    1.090000e+02  1.080000e+02  1.050000e+02  1.050000e+02  1.130000e+02   \n",
       "75%    5.240000e+02  5.190000e+02  5.040000e+02  4.870000e+02  5.400000e+02   \n",
       "max    2.038124e+07  2.075219e+07  1.957397e+07  2.043964e+07  2.077211e+07   \n",
       "\n",
       "         2015-07-06    2015-07-07    2015-07-08    2015-07-09    2015-07-10  \\\n",
       "count  1.245800e+05  1.243990e+05  1.247690e+05  1.248190e+05  1.247210e+05   \n",
       "mean   1.290273e+03  1.239137e+03  1.193092e+03  1.197992e+03  1.189651e+03   \n",
       "std    8.054448e+04  7.576288e+04  6.820002e+04  7.149717e+04  7.214536e+04   \n",
       "min    0.000000e+00  0.000000e+00  0.000000e+00  0.000000e+00  0.000000e+00   \n",
       "25%    1.100000e+01  1.300000e+01  1.300000e+01  1.400000e+01  1.400000e+01   \n",
       "50%    1.130000e+02  1.150000e+02  1.170000e+02  1.150000e+02  1.130000e+02   \n",
       "75%    5.550000e+02  5.510000e+02  5.540000e+02  5.490000e+02  5.450000e+02   \n",
       "max    2.254467e+07  2.121089e+07  1.910791e+07  1.999385e+07  2.020182e+07   \n",
       "\n",
       "           ...         2017-09-01    2017-09-02    2017-09-03    2017-09-04  \\\n",
       "count      ...       1.415430e+05  1.413870e+05  1.413460e+05  1.418680e+05   \n",
       "mean       ...       1.036314e+03  1.024713e+03  1.174865e+03  1.175681e+03   \n",
       "std        ...       4.999129e+04  5.713222e+04  6.743460e+04  6.915052e+04   \n",
       "min        ...       0.000000e+00  0.000000e+00  0.000000e+00  0.000000e+00   \n",
       "25%        ...       2.100000e+01  1.900000e+01  1.900000e+01  1.800000e+01   \n",
       "50%        ...       1.250000e+02  1.260000e+02  1.320000e+02  1.230000e+02   \n",
       "75%        ...       5.090000e+02  5.140000e+02  5.610000e+02  5.360000e+02   \n",
       "max        ...       1.372256e+07  1.578888e+07  1.856151e+07  1.906250e+07   \n",
       "\n",
       "         2017-09-05    2017-09-06    2017-09-07    2017-09-08    2017-09-09  \\\n",
       "count  1.424060e+05  1.432880e+05  1.415960e+05  1.440020e+05  1.417310e+05   \n",
       "mean   1.138931e+03  1.202851e+03  1.276387e+03  9.496720e+02  9.338783e+02   \n",
       "std    6.646815e+04  6.386384e+04  6.726099e+04  5.048330e+04  4.536524e+04   \n",
       "min    0.000000e+00  0.000000e+00  0.000000e+00  0.000000e+00  0.000000e+00   \n",
       "25%    1.800000e+01  1.800000e+01  2.300000e+01  1.800000e+01  1.800000e+01   \n",
       "50%    1.210000e+02  1.190000e+02  1.365000e+02  1.150000e+02  1.200000e+02   \n",
       "75%    5.300000e+02  5.320000e+02  5.760000e+02  5.040000e+02  5.160000e+02   \n",
       "max    1.839517e+07  1.749919e+07  1.827305e+07  1.411666e+07  1.269626e+07   \n",
       "\n",
       "         2017-09-10  \n",
       "count  1.394850e+05  \n",
       "mean   1.017055e+03  \n",
       "std    5.704368e+04  \n",
       "min    0.000000e+00  \n",
       "25%    1.800000e+01  \n",
       "50%    1.250000e+02  \n",
       "75%    5.480000e+02  \n",
       "max    1.573111e+07  \n",
       "\n",
       "[8 rows x 803 columns]"
      ]
     },
     "execution_count": 4,
     "metadata": {},
     "output_type": "execute_result"
    }
   ],
   "source": [
    "df.describe()"
   ]
  },
  {
   "cell_type": "code",
   "execution_count": 5,
   "metadata": {
    "scrolled": true
   },
   "outputs": [
    {
     "data": {
      "text/html": [
       "<div>\n",
       "<style scoped>\n",
       "    .dataframe tbody tr th:only-of-type {\n",
       "        vertical-align: middle;\n",
       "    }\n",
       "\n",
       "    .dataframe tbody tr th {\n",
       "        vertical-align: top;\n",
       "    }\n",
       "\n",
       "    .dataframe thead th {\n",
       "        text-align: right;\n",
       "    }\n",
       "</style>\n",
       "<table border=\"1\" class=\"dataframe\">\n",
       "  <thead>\n",
       "    <tr style=\"text-align: right;\">\n",
       "      <th></th>\n",
       "      <th>0</th>\n",
       "      <th>1</th>\n",
       "      <th>2</th>\n",
       "      <th>3</th>\n",
       "      <th>4</th>\n",
       "    </tr>\n",
       "  </thead>\n",
       "  <tbody>\n",
       "    <tr>\n",
       "      <th>0</th>\n",
       "      <td>2NE1</td>\n",
       "      <td>zh</td>\n",
       "      <td>wikipedia</td>\n",
       "      <td>all-access</td>\n",
       "      <td>spider</td>\n",
       "    </tr>\n",
       "    <tr>\n",
       "      <th>1</th>\n",
       "      <td>2PM</td>\n",
       "      <td>zh</td>\n",
       "      <td>wikipedia</td>\n",
       "      <td>all-access</td>\n",
       "      <td>spider</td>\n",
       "    </tr>\n",
       "    <tr>\n",
       "      <th>2</th>\n",
       "      <td>3C</td>\n",
       "      <td>zh</td>\n",
       "      <td>wikipedia</td>\n",
       "      <td>all-access</td>\n",
       "      <td>spider</td>\n",
       "    </tr>\n",
       "    <tr>\n",
       "      <th>3</th>\n",
       "      <td>4minute</td>\n",
       "      <td>zh</td>\n",
       "      <td>wikipedia</td>\n",
       "      <td>all-access</td>\n",
       "      <td>spider</td>\n",
       "    </tr>\n",
       "    <tr>\n",
       "      <th>4</th>\n",
       "      <td>52_Hz_I_Love_You</td>\n",
       "      <td>zh</td>\n",
       "      <td>wikipedia</td>\n",
       "      <td>all-access</td>\n",
       "      <td>spider</td>\n",
       "    </tr>\n",
       "  </tbody>\n",
       "</table>\n",
       "</div>"
      ],
      "text/plain": [
       "                  0   1          2           3       4\n",
       "0              2NE1  zh  wikipedia  all-access  spider\n",
       "1               2PM  zh  wikipedia  all-access  spider\n",
       "2                3C  zh  wikipedia  all-access  spider\n",
       "3           4minute  zh  wikipedia  all-access  spider\n",
       "4  52_Hz_I_Love_You  zh  wikipedia  all-access  spider"
      ]
     },
     "execution_count": 5,
     "metadata": {},
     "output_type": "execute_result"
    }
   ],
   "source": [
    "split_page = df['Page'].str.replace(\"^(.*)_([^_.]{2,})\\.(wikipedia|wikimedia|mediawiki)\\.org_([^_]*)_([^_]*)\", r\"\\1___\\2___\\3___\\4___\\5\").str.split(\"___\", expand=True)\n",
    "split_page.head()"
   ]
  },
  {
   "cell_type": "code",
   "execution_count": 6,
   "metadata": {},
   "outputs": [
    {
     "data": {
      "text/html": [
       "<div>\n",
       "<style scoped>\n",
       "    .dataframe tbody tr th:only-of-type {\n",
       "        vertical-align: middle;\n",
       "    }\n",
       "\n",
       "    .dataframe tbody tr th {\n",
       "        vertical-align: top;\n",
       "    }\n",
       "\n",
       "    .dataframe thead th {\n",
       "        text-align: right;\n",
       "    }\n",
       "</style>\n",
       "<table border=\"1\" class=\"dataframe\">\n",
       "  <thead>\n",
       "    <tr style=\"text-align: right;\">\n",
       "      <th></th>\n",
       "      <th>title</th>\n",
       "      <th>language</th>\n",
       "      <th>host</th>\n",
       "      <th>platform</th>\n",
       "      <th>isRobot</th>\n",
       "    </tr>\n",
       "  </thead>\n",
       "  <tbody>\n",
       "    <tr>\n",
       "      <th>0</th>\n",
       "      <td>2NE1</td>\n",
       "      <td>zh</td>\n",
       "      <td>wikipedia</td>\n",
       "      <td>all-access</td>\n",
       "      <td>spider</td>\n",
       "    </tr>\n",
       "    <tr>\n",
       "      <th>1</th>\n",
       "      <td>2PM</td>\n",
       "      <td>zh</td>\n",
       "      <td>wikipedia</td>\n",
       "      <td>all-access</td>\n",
       "      <td>spider</td>\n",
       "    </tr>\n",
       "    <tr>\n",
       "      <th>2</th>\n",
       "      <td>3C</td>\n",
       "      <td>zh</td>\n",
       "      <td>wikipedia</td>\n",
       "      <td>all-access</td>\n",
       "      <td>spider</td>\n",
       "    </tr>\n",
       "    <tr>\n",
       "      <th>3</th>\n",
       "      <td>4minute</td>\n",
       "      <td>zh</td>\n",
       "      <td>wikipedia</td>\n",
       "      <td>all-access</td>\n",
       "      <td>spider</td>\n",
       "    </tr>\n",
       "    <tr>\n",
       "      <th>4</th>\n",
       "      <td>52_Hz_I_Love_You</td>\n",
       "      <td>zh</td>\n",
       "      <td>wikipedia</td>\n",
       "      <td>all-access</td>\n",
       "      <td>spider</td>\n",
       "    </tr>\n",
       "  </tbody>\n",
       "</table>\n",
       "</div>"
      ],
      "text/plain": [
       "              title language       host    platform isRobot\n",
       "0              2NE1       zh  wikipedia  all-access  spider\n",
       "1               2PM       zh  wikipedia  all-access  spider\n",
       "2                3C       zh  wikipedia  all-access  spider\n",
       "3           4minute       zh  wikipedia  all-access  spider\n",
       "4  52_Hz_I_Love_You       zh  wikipedia  all-access  spider"
      ]
     },
     "execution_count": 6,
     "metadata": {},
     "output_type": "execute_result"
    }
   ],
   "source": [
    "split_page.columns = [\"title\", \"language\", \"host\", \"platform\", \"isRobot\"]\n",
    "split_page.head()"
   ]
  },
  {
   "cell_type": "code",
   "execution_count": 7,
   "metadata": {
    "scrolled": true
   },
   "outputs": [
    {
     "data": {
      "text/html": [
       "<div>\n",
       "<style scoped>\n",
       "    .dataframe tbody tr th:only-of-type {\n",
       "        vertical-align: middle;\n",
       "    }\n",
       "\n",
       "    .dataframe tbody tr th {\n",
       "        vertical-align: top;\n",
       "    }\n",
       "\n",
       "    .dataframe thead th {\n",
       "        text-align: right;\n",
       "    }\n",
       "</style>\n",
       "<table border=\"1\" class=\"dataframe\">\n",
       "  <thead>\n",
       "    <tr style=\"text-align: right;\">\n",
       "      <th></th>\n",
       "      <th>Page</th>\n",
       "      <th>2015-07-01</th>\n",
       "      <th>2015-07-02</th>\n",
       "      <th>2015-07-03</th>\n",
       "      <th>2015-07-04</th>\n",
       "      <th>2015-07-05</th>\n",
       "      <th>2015-07-06</th>\n",
       "      <th>2015-07-07</th>\n",
       "      <th>2015-07-08</th>\n",
       "      <th>2015-07-09</th>\n",
       "      <th>...</th>\n",
       "      <th>2017-09-06</th>\n",
       "      <th>2017-09-07</th>\n",
       "      <th>2017-09-08</th>\n",
       "      <th>2017-09-09</th>\n",
       "      <th>2017-09-10</th>\n",
       "      <th>title</th>\n",
       "      <th>language</th>\n",
       "      <th>host</th>\n",
       "      <th>platform</th>\n",
       "      <th>isRobot</th>\n",
       "    </tr>\n",
       "  </thead>\n",
       "  <tbody>\n",
       "    <tr>\n",
       "      <th>0</th>\n",
       "      <td>2NE1_zh.wikipedia.org_all-access_spider</td>\n",
       "      <td>18.0</td>\n",
       "      <td>11.0</td>\n",
       "      <td>5.0</td>\n",
       "      <td>13.0</td>\n",
       "      <td>14.0</td>\n",
       "      <td>9.0</td>\n",
       "      <td>9.0</td>\n",
       "      <td>22.0</td>\n",
       "      <td>26.0</td>\n",
       "      <td>...</td>\n",
       "      <td>27.0</td>\n",
       "      <td>29.0</td>\n",
       "      <td>23.0</td>\n",
       "      <td>54.0</td>\n",
       "      <td>38.0</td>\n",
       "      <td>2NE1</td>\n",
       "      <td>zh</td>\n",
       "      <td>wikipedia</td>\n",
       "      <td>all-access</td>\n",
       "      <td>spider</td>\n",
       "    </tr>\n",
       "    <tr>\n",
       "      <th>1</th>\n",
       "      <td>2PM_zh.wikipedia.org_all-access_spider</td>\n",
       "      <td>11.0</td>\n",
       "      <td>14.0</td>\n",
       "      <td>15.0</td>\n",
       "      <td>18.0</td>\n",
       "      <td>11.0</td>\n",
       "      <td>13.0</td>\n",
       "      <td>22.0</td>\n",
       "      <td>11.0</td>\n",
       "      <td>10.0</td>\n",
       "      <td>...</td>\n",
       "      <td>25.0</td>\n",
       "      <td>26.0</td>\n",
       "      <td>23.0</td>\n",
       "      <td>13.0</td>\n",
       "      <td>81.0</td>\n",
       "      <td>2PM</td>\n",
       "      <td>zh</td>\n",
       "      <td>wikipedia</td>\n",
       "      <td>all-access</td>\n",
       "      <td>spider</td>\n",
       "    </tr>\n",
       "    <tr>\n",
       "      <th>2</th>\n",
       "      <td>3C_zh.wikipedia.org_all-access_spider</td>\n",
       "      <td>1.0</td>\n",
       "      <td>0.0</td>\n",
       "      <td>1.0</td>\n",
       "      <td>1.0</td>\n",
       "      <td>0.0</td>\n",
       "      <td>4.0</td>\n",
       "      <td>0.0</td>\n",
       "      <td>3.0</td>\n",
       "      <td>4.0</td>\n",
       "      <td>...</td>\n",
       "      <td>7.0</td>\n",
       "      <td>3.0</td>\n",
       "      <td>4.0</td>\n",
       "      <td>7.0</td>\n",
       "      <td>6.0</td>\n",
       "      <td>3C</td>\n",
       "      <td>zh</td>\n",
       "      <td>wikipedia</td>\n",
       "      <td>all-access</td>\n",
       "      <td>spider</td>\n",
       "    </tr>\n",
       "    <tr>\n",
       "      <th>3</th>\n",
       "      <td>4minute_zh.wikipedia.org_all-access_spider</td>\n",
       "      <td>35.0</td>\n",
       "      <td>13.0</td>\n",
       "      <td>10.0</td>\n",
       "      <td>94.0</td>\n",
       "      <td>4.0</td>\n",
       "      <td>26.0</td>\n",
       "      <td>14.0</td>\n",
       "      <td>9.0</td>\n",
       "      <td>11.0</td>\n",
       "      <td>...</td>\n",
       "      <td>16.0</td>\n",
       "      <td>19.0</td>\n",
       "      <td>30.0</td>\n",
       "      <td>38.0</td>\n",
       "      <td>4.0</td>\n",
       "      <td>4minute</td>\n",
       "      <td>zh</td>\n",
       "      <td>wikipedia</td>\n",
       "      <td>all-access</td>\n",
       "      <td>spider</td>\n",
       "    </tr>\n",
       "    <tr>\n",
       "      <th>4</th>\n",
       "      <td>52_Hz_I_Love_You_zh.wikipedia.org_all-access_s...</td>\n",
       "      <td>NaN</td>\n",
       "      <td>NaN</td>\n",
       "      <td>NaN</td>\n",
       "      <td>NaN</td>\n",
       "      <td>NaN</td>\n",
       "      <td>NaN</td>\n",
       "      <td>NaN</td>\n",
       "      <td>NaN</td>\n",
       "      <td>NaN</td>\n",
       "      <td>...</td>\n",
       "      <td>23.0</td>\n",
       "      <td>28.0</td>\n",
       "      <td>14.0</td>\n",
       "      <td>8.0</td>\n",
       "      <td>7.0</td>\n",
       "      <td>52_Hz_I_Love_You</td>\n",
       "      <td>zh</td>\n",
       "      <td>wikipedia</td>\n",
       "      <td>all-access</td>\n",
       "      <td>spider</td>\n",
       "    </tr>\n",
       "  </tbody>\n",
       "</table>\n",
       "<p>5 rows × 809 columns</p>\n",
       "</div>"
      ],
      "text/plain": [
       "                                                Page  2015-07-01  2015-07-02  \\\n",
       "0            2NE1_zh.wikipedia.org_all-access_spider        18.0        11.0   \n",
       "1             2PM_zh.wikipedia.org_all-access_spider        11.0        14.0   \n",
       "2              3C_zh.wikipedia.org_all-access_spider         1.0         0.0   \n",
       "3         4minute_zh.wikipedia.org_all-access_spider        35.0        13.0   \n",
       "4  52_Hz_I_Love_You_zh.wikipedia.org_all-access_s...         NaN         NaN   \n",
       "\n",
       "   2015-07-03  2015-07-04  2015-07-05  2015-07-06  2015-07-07  2015-07-08  \\\n",
       "0         5.0        13.0        14.0         9.0         9.0        22.0   \n",
       "1        15.0        18.0        11.0        13.0        22.0        11.0   \n",
       "2         1.0         1.0         0.0         4.0         0.0         3.0   \n",
       "3        10.0        94.0         4.0        26.0        14.0         9.0   \n",
       "4         NaN         NaN         NaN         NaN         NaN         NaN   \n",
       "\n",
       "   2015-07-09   ...     2017-09-06  2017-09-07  2017-09-08  2017-09-09  \\\n",
       "0        26.0   ...           27.0        29.0        23.0        54.0   \n",
       "1        10.0   ...           25.0        26.0        23.0        13.0   \n",
       "2         4.0   ...            7.0         3.0         4.0         7.0   \n",
       "3        11.0   ...           16.0        19.0        30.0        38.0   \n",
       "4         NaN   ...           23.0        28.0        14.0         8.0   \n",
       "\n",
       "   2017-09-10             title  language       host    platform  isRobot  \n",
       "0        38.0              2NE1        zh  wikipedia  all-access   spider  \n",
       "1        81.0               2PM        zh  wikipedia  all-access   spider  \n",
       "2         6.0                3C        zh  wikipedia  all-access   spider  \n",
       "3         4.0           4minute        zh  wikipedia  all-access   spider  \n",
       "4         7.0  52_Hz_I_Love_You        zh  wikipedia  all-access   spider  \n",
       "\n",
       "[5 rows x 809 columns]"
      ]
     },
     "execution_count": 7,
     "metadata": {},
     "output_type": "execute_result"
    }
   ],
   "source": [
    "df[[\"title\", \"language\", \"host\", \"platform\", \"isRobot\"]] = df['Page'].str.replace(\"^(.*)_([^_.]{2,})\\.(wikipedia|wikimedia|mediawiki)\\.org_([^_]*)_([^_]*)\", r\"\\1___\\2___\\3___\\4___\\5\").str.split(\"___\", expand=True)\n",
    "df.head()"
   ]
  },
  {
   "cell_type": "code",
   "execution_count": 12,
   "metadata": {},
   "outputs": [
    {
     "data": {
      "text/plain": [
       "(145063, 809)"
      ]
     },
     "execution_count": 12,
     "metadata": {},
     "output_type": "execute_result"
    }
   ],
   "source": [
    "df.shape"
   ]
  },
  {
   "cell_type": "code",
   "execution_count": 8,
   "metadata": {},
   "outputs": [
    {
     "data": {
      "text/html": [
       "<div>\n",
       "<style scoped>\n",
       "    .dataframe tbody tr th:only-of-type {\n",
       "        vertical-align: middle;\n",
       "    }\n",
       "\n",
       "    .dataframe tbody tr th {\n",
       "        vertical-align: top;\n",
       "    }\n",
       "\n",
       "    .dataframe thead th {\n",
       "        text-align: right;\n",
       "    }\n",
       "</style>\n",
       "<table border=\"1\" class=\"dataframe\">\n",
       "  <thead>\n",
       "    <tr style=\"text-align: right;\">\n",
       "      <th></th>\n",
       "      <th>Page</th>\n",
       "      <th>Date</th>\n",
       "      <th>Value</th>\n",
       "    </tr>\n",
       "  </thead>\n",
       "  <tbody>\n",
       "    <tr>\n",
       "      <th>0</th>\n",
       "      <td>2NE1_zh.wikipedia.org_all-access_spider</td>\n",
       "      <td>2015-07-01</td>\n",
       "      <td>18</td>\n",
       "    </tr>\n",
       "    <tr>\n",
       "      <th>1</th>\n",
       "      <td>2PM_zh.wikipedia.org_all-access_spider</td>\n",
       "      <td>2015-07-01</td>\n",
       "      <td>11</td>\n",
       "    </tr>\n",
       "    <tr>\n",
       "      <th>2</th>\n",
       "      <td>3C_zh.wikipedia.org_all-access_spider</td>\n",
       "      <td>2015-07-01</td>\n",
       "      <td>1</td>\n",
       "    </tr>\n",
       "    <tr>\n",
       "      <th>3</th>\n",
       "      <td>4minute_zh.wikipedia.org_all-access_spider</td>\n",
       "      <td>2015-07-01</td>\n",
       "      <td>35</td>\n",
       "    </tr>\n",
       "    <tr>\n",
       "      <th>4</th>\n",
       "      <td>52_Hz_I_Love_You_zh.wikipedia.org_all-access_s...</td>\n",
       "      <td>2015-07-01</td>\n",
       "      <td>NaN</td>\n",
       "    </tr>\n",
       "  </tbody>\n",
       "</table>\n",
       "</div>"
      ],
      "text/plain": [
       "                                                Page        Date Value\n",
       "0            2NE1_zh.wikipedia.org_all-access_spider  2015-07-01    18\n",
       "1             2PM_zh.wikipedia.org_all-access_spider  2015-07-01    11\n",
       "2              3C_zh.wikipedia.org_all-access_spider  2015-07-01     1\n",
       "3         4minute_zh.wikipedia.org_all-access_spider  2015-07-01    35\n",
       "4  52_Hz_I_Love_You_zh.wikipedia.org_all-access_s...  2015-07-01   NaN"
      ]
     },
     "execution_count": 8,
     "metadata": {},
     "output_type": "execute_result"
    }
   ],
   "source": [
    "melted_df = pd.melt(df, id_vars=['Page'], var_name=\"Date\", value_name=\"Value\")\n",
    "melted_df.head()"
   ]
  },
  {
   "cell_type": "code",
   "execution_count": 10,
   "metadata": {
    "scrolled": true
   },
   "outputs": [
    {
     "data": {
      "text/plain": [
       "False"
      ]
     },
     "execution_count": 10,
     "metadata": {},
     "output_type": "execute_result"
    }
   ],
   "source": [
    "melted_df['Page'].str.contains(\"_[A-Za-z]{2}.wikipedia\").all()"
   ]
  },
  {
   "cell_type": "code",
   "execution_count": 11,
   "metadata": {
    "scrolled": true
   },
   "outputs": [
    {
     "data": {
      "text/html": [
       "<div>\n",
       "<style scoped>\n",
       "    .dataframe tbody tr th:only-of-type {\n",
       "        vertical-align: middle;\n",
       "    }\n",
       "\n",
       "    .dataframe tbody tr th {\n",
       "        vertical-align: top;\n",
       "    }\n",
       "\n",
       "    .dataframe thead th {\n",
       "        text-align: right;\n",
       "    }\n",
       "</style>\n",
       "<table border=\"1\" class=\"dataframe\">\n",
       "  <thead>\n",
       "    <tr style=\"text-align: right;\">\n",
       "      <th></th>\n",
       "      <th>Page</th>\n",
       "      <th>Date</th>\n",
       "      <th>Value</th>\n",
       "    </tr>\n",
       "  </thead>\n",
       "  <tbody>\n",
       "    <tr>\n",
       "      <th>13332</th>\n",
       "      <td>Accueil_commons.wikimedia.org_all-access_spider</td>\n",
       "      <td>2015-07-01</td>\n",
       "      <td>55</td>\n",
       "    </tr>\n",
       "    <tr>\n",
       "      <th>13333</th>\n",
       "      <td>Atlas_of_Asia_commons.wikimedia.org_all-access...</td>\n",
       "      <td>2015-07-01</td>\n",
       "      <td>5</td>\n",
       "    </tr>\n",
       "    <tr>\n",
       "      <th>13334</th>\n",
       "      <td>Atlas_of_Europe_commons.wikimedia.org_all-acce...</td>\n",
       "      <td>2015-07-01</td>\n",
       "      <td>4</td>\n",
       "    </tr>\n",
       "    <tr>\n",
       "      <th>13335</th>\n",
       "      <td>Atlas_of_World_War_II_commons.wikimedia.org_al...</td>\n",
       "      <td>2015-07-01</td>\n",
       "      <td>5</td>\n",
       "    </tr>\n",
       "    <tr>\n",
       "      <th>13336</th>\n",
       "      <td>Atlas_of_colonialism_commons.wikimedia.org_all...</td>\n",
       "      <td>2015-07-01</td>\n",
       "      <td>8</td>\n",
       "    </tr>\n",
       "  </tbody>\n",
       "</table>\n",
       "</div>"
      ],
      "text/plain": [
       "                                                    Page        Date Value\n",
       "13332    Accueil_commons.wikimedia.org_all-access_spider  2015-07-01    55\n",
       "13333  Atlas_of_Asia_commons.wikimedia.org_all-access...  2015-07-01     5\n",
       "13334  Atlas_of_Europe_commons.wikimedia.org_all-acce...  2015-07-01     4\n",
       "13335  Atlas_of_World_War_II_commons.wikimedia.org_al...  2015-07-01     5\n",
       "13336  Atlas_of_colonialism_commons.wikimedia.org_all...  2015-07-01     8"
      ]
     },
     "execution_count": 11,
     "metadata": {},
     "output_type": "execute_result"
    }
   ],
   "source": [
    "melted_df[~melted_df['Page'].str.contains(\"_[A-Za-z]{2}.wikipedia\")].head()"
   ]
  },
  {
   "cell_type": "code",
   "execution_count": 12,
   "metadata": {
    "scrolled": true
   },
   "outputs": [
    {
     "name": "stderr",
     "output_type": "stream",
     "text": [
      "/usr/lib/python3.6/site-packages/ipykernel_launcher.py:1: UserWarning: This pattern has match groups. To actually get the groups, use str.extract.\n",
      "  \"\"\"Entry point for launching an IPython kernel.\n"
     ]
    },
    {
     "data": {
      "text/html": [
       "<div>\n",
       "<style scoped>\n",
       "    .dataframe tbody tr th:only-of-type {\n",
       "        vertical-align: middle;\n",
       "    }\n",
       "\n",
       "    .dataframe tbody tr th {\n",
       "        vertical-align: top;\n",
       "    }\n",
       "\n",
       "    .dataframe thead th {\n",
       "        text-align: right;\n",
       "    }\n",
       "</style>\n",
       "<table border=\"1\" class=\"dataframe\">\n",
       "  <thead>\n",
       "    <tr style=\"text-align: right;\">\n",
       "      <th></th>\n",
       "      <th>Page</th>\n",
       "      <th>Date</th>\n",
       "      <th>Value</th>\n",
       "    </tr>\n",
       "  </thead>\n",
       "  <tbody>\n",
       "  </tbody>\n",
       "</table>\n",
       "</div>"
      ],
      "text/plain": [
       "Empty DataFrame\n",
       "Columns: [Page, Date, Value]\n",
       "Index: []"
      ]
     },
     "execution_count": 12,
     "metadata": {},
     "output_type": "execute_result"
    }
   ],
   "source": [
    "melted_df[~melted_df['Page'].str.contains(\"_([^_.]{2,})\\.(wikipedia|wikimedia|mediawiki)\\.org.*\")].head()"
   ]
  },
  {
   "cell_type": "code",
   "execution_count": null,
   "metadata": {
    "scrolled": true
   },
   "outputs": [
    {
     "name": "stderr",
     "output_type": "stream",
     "text": [
      "/usr/lib/python3.6/site-packages/ipykernel_launcher.py:1: UserWarning: This pattern has match groups. To actually get the groups, use str.extract.\n",
      "  \"\"\"Entry point for launching an IPython kernel.\n"
     ]
    },
    {
     "data": {
      "text/plain": [
       "Page     0\n",
       "Date     0\n",
       "Value    0\n",
       "dtype: int64"
      ]
     },
     "execution_count": 13,
     "metadata": {},
     "output_type": "execute_result"
    }
   ],
   "source": [
    "melted_df[~melted_df['Page'].str.contains(\"_([^_.]{2,})\\.(wikipedia|wikimedia|mediawiki)\\.org.*\")].count()"
   ]
  },
  {
   "cell_type": "code",
   "execution_count": null,
   "metadata": {
    "scrolled": true
   },
   "outputs": [],
   "source": [
    "split_page = melted_df['Page'].str.replace(\"^(.*)_([^_.]{2,})\\.(wikipedia|wikimedia|mediawiki)\\.org_([^_]*)_([^_]*)\", r\"\\1___\\2___\\3___\\4___\\5\").str.split(\"___\", expand=True)\n",
    "split_page.head()"
   ]
  },
  {
   "cell_type": "code",
   "execution_count": null,
   "metadata": {},
   "outputs": [],
   "source": [
    "melted_df.head()"
   ]
  },
  {
   "cell_type": "code",
   "execution_count": 31,
   "metadata": {
    "scrolled": true
   },
   "outputs": [
    {
     "data": {
      "text/html": [
       "<div>\n",
       "<style scoped>\n",
       "    .dataframe tbody tr th:only-of-type {\n",
       "        vertical-align: middle;\n",
       "    }\n",
       "\n",
       "    .dataframe tbody tr th {\n",
       "        vertical-align: top;\n",
       "    }\n",
       "\n",
       "    .dataframe thead th {\n",
       "        text-align: right;\n",
       "    }\n",
       "</style>\n",
       "<table border=\"1\" class=\"dataframe\">\n",
       "  <thead>\n",
       "    <tr style=\"text-align: right;\">\n",
       "      <th></th>\n",
       "      <th>0</th>\n",
       "      <th>1</th>\n",
       "      <th>2</th>\n",
       "      <th>3</th>\n",
       "      <th>4</th>\n",
       "    </tr>\n",
       "  </thead>\n",
       "  <tbody>\n",
       "    <tr>\n",
       "      <th>0</th>\n",
       "      <td>2NE1</td>\n",
       "      <td>zh</td>\n",
       "      <td>wikipedia</td>\n",
       "      <td>all-access</td>\n",
       "      <td>spider</td>\n",
       "    </tr>\n",
       "    <tr>\n",
       "      <th>1</th>\n",
       "      <td>2PM</td>\n",
       "      <td>zh</td>\n",
       "      <td>wikipedia</td>\n",
       "      <td>all-access</td>\n",
       "      <td>spider</td>\n",
       "    </tr>\n",
       "    <tr>\n",
       "      <th>2</th>\n",
       "      <td>3C</td>\n",
       "      <td>zh</td>\n",
       "      <td>wikipedia</td>\n",
       "      <td>all-access</td>\n",
       "      <td>spider</td>\n",
       "    </tr>\n",
       "    <tr>\n",
       "      <th>3</th>\n",
       "      <td>4minute</td>\n",
       "      <td>zh</td>\n",
       "      <td>wikipedia</td>\n",
       "      <td>all-access</td>\n",
       "      <td>spider</td>\n",
       "    </tr>\n",
       "    <tr>\n",
       "      <th>4</th>\n",
       "      <td>52_Hz_I_Love_You</td>\n",
       "      <td>zh</td>\n",
       "      <td>wikipedia</td>\n",
       "      <td>all-access</td>\n",
       "      <td>spider</td>\n",
       "    </tr>\n",
       "  </tbody>\n",
       "</table>\n",
       "</div>"
      ],
      "text/plain": [
       "                  0   1          2           3       4\n",
       "0              2NE1  zh  wikipedia  all-access  spider\n",
       "1               2PM  zh  wikipedia  all-access  spider\n",
       "2                3C  zh  wikipedia  all-access  spider\n",
       "3           4minute  zh  wikipedia  all-access  spider\n",
       "4  52_Hz_I_Love_You  zh  wikipedia  all-access  spider"
      ]
     },
     "execution_count": 31,
     "metadata": {},
     "output_type": "execute_result"
    }
   ],
   "source": [
    "tmp = melted_df.head(100000)['Page'].str.replace(\"^(.*)_([^_.]{2,})\\.(wikipedia|wikimedia|mediawiki)\\.org_([^_]*)_([^_]*)\", r\"\\1___\\2___\\3___\\4___\\5\").str.split(\"___\", expand=True)\n",
    "\n",
    "tmp.head()"
   ]
  },
  {
   "cell_type": "code",
   "execution_count": 32,
   "metadata": {},
   "outputs": [
    {
     "data": {
      "text/plain": [
       "array(['wikipedia', 'wikimedia', 'mediawiki'], dtype=object)"
      ]
     },
     "execution_count": 32,
     "metadata": {},
     "output_type": "execute_result"
    }
   ],
   "source": [
    "tmp[2].unique()"
   ]
  },
  {
   "cell_type": "code",
   "execution_count": 9,
   "metadata": {
    "scrolled": true
   },
   "outputs": [],
   "source": [
    "melted2 = melted_df[melted_df['Page'].str.contains(\"_[A-Za-z]{2}.wikipedia\")]"
   ]
  },
  {
   "cell_type": "code",
   "execution_count": 10,
   "metadata": {
    "scrolled": true
   },
   "outputs": [
    {
     "ename": "KeyboardInterrupt",
     "evalue": "",
     "output_type": "error",
     "traceback": [
      "\u001b[0;31m---------------------------------------------------------------------------\u001b[0m",
      "\u001b[0;31mKeyboardInterrupt\u001b[0m                         Traceback (most recent call last)",
      "\u001b[0;32m<ipython-input-10-b05fb2dba809>\u001b[0m in \u001b[0;36m<module>\u001b[0;34m()\u001b[0m\n\u001b[0;32m----> 1\u001b[0;31m \u001b[0mmelted2\u001b[0m\u001b[0;34m[\u001b[0m\u001b[0;34m'title'\u001b[0m\u001b[0;34m]\u001b[0m \u001b[0;34m=\u001b[0m \u001b[0mmelted2\u001b[0m\u001b[0;34m[\u001b[0m\u001b[0;34m'Page'\u001b[0m\u001b[0;34m]\u001b[0m\u001b[0;34m.\u001b[0m\u001b[0mstr\u001b[0m\u001b[0;34m.\u001b[0m\u001b[0mreplace\u001b[0m\u001b[0;34m(\u001b[0m\u001b[0;34m\"_([A-Za-z]{2}).wikipedia.org.*\"\u001b[0m\u001b[0;34m,\u001b[0m \u001b[0;34mr\"___\\1\"\u001b[0m\u001b[0;34m)\u001b[0m\u001b[0;34m.\u001b[0m\u001b[0mstr\u001b[0m\u001b[0;34m.\u001b[0m\u001b[0msplit\u001b[0m\u001b[0;34m(\u001b[0m\u001b[0;34m\"___\"\u001b[0m\u001b[0;34m)\u001b[0m\u001b[0;34m.\u001b[0m\u001b[0mapply\u001b[0m\u001b[0;34m(\u001b[0m\u001b[0;32mlambda\u001b[0m \u001b[0mx\u001b[0m\u001b[0;34m:\u001b[0m \u001b[0mx\u001b[0m\u001b[0;34m[\u001b[0m\u001b[0;36m0\u001b[0m\u001b[0;34m]\u001b[0m\u001b[0;34m)\u001b[0m\u001b[0;34m\u001b[0m\u001b[0m\n\u001b[0m",
      "\u001b[0;31mKeyboardInterrupt\u001b[0m: "
     ]
    }
   ],
   "source": [
    "melted2['title'] = melted2['Page'].str.replace(\"_([A-Za-z]{2}).wikipedia.org.*\", r\"___\\1\").str.split(\"___\").apply(lambda x: x[0])"
   ]
  },
  {
   "cell_type": "code",
   "execution_count": 12,
   "metadata": {
    "scrolled": true
   },
   "outputs": [
    {
     "data": {
      "text/html": [
       "<div>\n",
       "<style scoped>\n",
       "    .dataframe tbody tr th:only-of-type {\n",
       "        vertical-align: middle;\n",
       "    }\n",
       "\n",
       "    .dataframe tbody tr th {\n",
       "        vertical-align: top;\n",
       "    }\n",
       "\n",
       "    .dataframe thead th {\n",
       "        text-align: right;\n",
       "    }\n",
       "</style>\n",
       "<table border=\"1\" class=\"dataframe\">\n",
       "  <thead>\n",
       "    <tr style=\"text-align: right;\">\n",
       "      <th></th>\n",
       "      <th>0</th>\n",
       "      <th>1</th>\n",
       "    </tr>\n",
       "  </thead>\n",
       "  <tbody>\n",
       "    <tr>\n",
       "      <th>0</th>\n",
       "      <td>2NE1</td>\n",
       "      <td>zh</td>\n",
       "    </tr>\n",
       "    <tr>\n",
       "      <th>1</th>\n",
       "      <td>2PM</td>\n",
       "      <td>zh</td>\n",
       "    </tr>\n",
       "    <tr>\n",
       "      <th>2</th>\n",
       "      <td>3C</td>\n",
       "      <td>zh</td>\n",
       "    </tr>\n",
       "    <tr>\n",
       "      <th>3</th>\n",
       "      <td>4minute</td>\n",
       "      <td>zh</td>\n",
       "    </tr>\n",
       "    <tr>\n",
       "      <th>4</th>\n",
       "      <td>52_Hz_I_Love_You</td>\n",
       "      <td>zh</td>\n",
       "    </tr>\n",
       "  </tbody>\n",
       "</table>\n",
       "</div>"
      ],
      "text/plain": [
       "                  0   1\n",
       "0              2NE1  zh\n",
       "1               2PM  zh\n",
       "2                3C  zh\n",
       "3           4minute  zh\n",
       "4  52_Hz_I_Love_You  zh"
      ]
     },
     "execution_count": 12,
     "metadata": {},
     "output_type": "execute_result"
    }
   ],
   "source": [
    "melted2['Page'].head().str.replace(\"_([^_.]{2,})\\.wiki(pedia|media)\\.org.*\", r\"___\\1\").str.split(\"___\", expand=True)"
   ]
  },
  {
   "cell_type": "code",
   "execution_count": 7,
   "metadata": {},
   "outputs": [
    {
     "ename": "IndexError",
     "evalue": "list index out of range",
     "output_type": "error",
     "traceback": [
      "\u001b[0;31m---------------------------------------------------------------------------\u001b[0m",
      "\u001b[0;31mIndexError\u001b[0m                                Traceback (most recent call last)",
      "\u001b[0;32m<ipython-input-7-e754deca07fc>\u001b[0m in \u001b[0;36m<module>\u001b[0;34m()\u001b[0m\n\u001b[0;32m----> 1\u001b[0;31m \u001b[0mmelted_df\u001b[0m\u001b[0;34m[\u001b[0m\u001b[0;34m'language'\u001b[0m\u001b[0;34m]\u001b[0m \u001b[0;34m=\u001b[0m \u001b[0mmelted_df\u001b[0m\u001b[0;34m[\u001b[0m\u001b[0;34m'Page'\u001b[0m\u001b[0;34m]\u001b[0m\u001b[0;34m.\u001b[0m\u001b[0mstr\u001b[0m\u001b[0;34m.\u001b[0m\u001b[0mreplace\u001b[0m\u001b[0;34m(\u001b[0m\u001b[0;34m\"_([A-Za-z]{2}).wikipedia.org.*\"\u001b[0m\u001b[0;34m,\u001b[0m \u001b[0;34mr\"___\\1\"\u001b[0m\u001b[0;34m)\u001b[0m\u001b[0;34m.\u001b[0m\u001b[0mstr\u001b[0m\u001b[0;34m.\u001b[0m\u001b[0msplit\u001b[0m\u001b[0;34m(\u001b[0m\u001b[0;34m\"___\"\u001b[0m\u001b[0;34m)\u001b[0m\u001b[0;34m.\u001b[0m\u001b[0mapply\u001b[0m\u001b[0;34m(\u001b[0m\u001b[0;32mlambda\u001b[0m \u001b[0mx\u001b[0m\u001b[0;34m:\u001b[0m \u001b[0mx\u001b[0m\u001b[0;34m[\u001b[0m\u001b[0;36m1\u001b[0m\u001b[0;34m]\u001b[0m\u001b[0;34m)\u001b[0m\u001b[0;34m\u001b[0m\u001b[0m\n\u001b[0m",
      "\u001b[0;32m/usr/lib/python2.7/site-packages/pandas/core/series.pyc\u001b[0m in \u001b[0;36mapply\u001b[0;34m(self, func, convert_dtype, args, **kwds)\u001b[0m\n\u001b[1;32m   2508\u001b[0m             \u001b[0;32melse\u001b[0m\u001b[0;34m:\u001b[0m\u001b[0;34m\u001b[0m\u001b[0m\n\u001b[1;32m   2509\u001b[0m                 \u001b[0mvalues\u001b[0m \u001b[0;34m=\u001b[0m \u001b[0mself\u001b[0m\u001b[0;34m.\u001b[0m\u001b[0masobject\u001b[0m\u001b[0;34m\u001b[0m\u001b[0m\n\u001b[0;32m-> 2510\u001b[0;31m                 \u001b[0mmapped\u001b[0m \u001b[0;34m=\u001b[0m \u001b[0mlib\u001b[0m\u001b[0;34m.\u001b[0m\u001b[0mmap_infer\u001b[0m\u001b[0;34m(\u001b[0m\u001b[0mvalues\u001b[0m\u001b[0;34m,\u001b[0m \u001b[0mf\u001b[0m\u001b[0;34m,\u001b[0m \u001b[0mconvert\u001b[0m\u001b[0;34m=\u001b[0m\u001b[0mconvert_dtype\u001b[0m\u001b[0;34m)\u001b[0m\u001b[0;34m\u001b[0m\u001b[0m\n\u001b[0m\u001b[1;32m   2511\u001b[0m \u001b[0;34m\u001b[0m\u001b[0m\n\u001b[1;32m   2512\u001b[0m         \u001b[0;32mif\u001b[0m \u001b[0mlen\u001b[0m\u001b[0;34m(\u001b[0m\u001b[0mmapped\u001b[0m\u001b[0;34m)\u001b[0m \u001b[0;32mand\u001b[0m \u001b[0misinstance\u001b[0m\u001b[0;34m(\u001b[0m\u001b[0mmapped\u001b[0m\u001b[0;34m[\u001b[0m\u001b[0;36m0\u001b[0m\u001b[0;34m]\u001b[0m\u001b[0;34m,\u001b[0m \u001b[0mSeries\u001b[0m\u001b[0;34m)\u001b[0m\u001b[0;34m:\u001b[0m\u001b[0;34m\u001b[0m\u001b[0m\n",
      "\u001b[0;32mpandas/_libs/src/inference.pyx\u001b[0m in \u001b[0;36mpandas._libs.lib.map_infer\u001b[0;34m()\u001b[0m\n",
      "\u001b[0;32m<ipython-input-7-e754deca07fc>\u001b[0m in \u001b[0;36m<lambda>\u001b[0;34m(x)\u001b[0m\n\u001b[0;32m----> 1\u001b[0;31m \u001b[0mmelted_df\u001b[0m\u001b[0;34m[\u001b[0m\u001b[0;34m'language'\u001b[0m\u001b[0;34m]\u001b[0m \u001b[0;34m=\u001b[0m \u001b[0mmelted_df\u001b[0m\u001b[0;34m[\u001b[0m\u001b[0;34m'Page'\u001b[0m\u001b[0;34m]\u001b[0m\u001b[0;34m.\u001b[0m\u001b[0mstr\u001b[0m\u001b[0;34m.\u001b[0m\u001b[0mreplace\u001b[0m\u001b[0;34m(\u001b[0m\u001b[0;34m\"_([A-Za-z]{2}).wikipedia.org.*\"\u001b[0m\u001b[0;34m,\u001b[0m \u001b[0;34mr\"___\\1\"\u001b[0m\u001b[0;34m)\u001b[0m\u001b[0;34m.\u001b[0m\u001b[0mstr\u001b[0m\u001b[0;34m.\u001b[0m\u001b[0msplit\u001b[0m\u001b[0;34m(\u001b[0m\u001b[0;34m\"___\"\u001b[0m\u001b[0;34m)\u001b[0m\u001b[0;34m.\u001b[0m\u001b[0mapply\u001b[0m\u001b[0;34m(\u001b[0m\u001b[0;32mlambda\u001b[0m \u001b[0mx\u001b[0m\u001b[0;34m:\u001b[0m \u001b[0mx\u001b[0m\u001b[0;34m[\u001b[0m\u001b[0;36m1\u001b[0m\u001b[0;34m]\u001b[0m\u001b[0;34m)\u001b[0m\u001b[0;34m\u001b[0m\u001b[0m\n\u001b[0m",
      "\u001b[0;31mIndexError\u001b[0m: list index out of range"
     ]
    }
   ],
   "source": [
    "melted2['language'] = melted2['Page'].str.replace(\"_([A-Za-z]{2}).wikipedia.org.*\", r\"___\\1\").str.split(\"___\").apply(lambda x: x[1])"
   ]
  },
  {
   "cell_type": "code",
   "execution_count": null,
   "metadata": {},
   "outputs": [],
   "source": [
    "melted2['Page'].str.replace(\"_([A-Za-z]{2}).wikipedia.org.*\", r\"___\\1\").str.split(\"___\").apply(lambda x: len(x))"
   ]
  },
  {
   "cell_type": "code",
   "execution_count": null,
   "metadata": {},
   "outputs": [],
   "source": [
    "melted2['platform'] = melted2['Page'].str.replace(\".*.wikipedia.org_(.*)\", r\"\\1\").str.split(\"_\").apply(lambda x: x[0])"
   ]
  },
  {
   "cell_type": "code",
   "execution_count": null,
   "metadata": {},
   "outputs": [],
   "source": [
    "melted2['isRobot'] = melted2['Page'].str.replace(\".*.wikipedia.org_(.*)\", r\"\\1\").str.split(\"_\").apply(lambda x: int(x[1]==\"spider\"))"
   ]
  },
  {
   "cell_type": "code",
   "execution_count": 113,
   "metadata": {
    "collapsed": true
   },
   "outputs": [],
   "source": [
    "# drop page colum\n",
    "#del melted_df['Page']"
   ]
  },
  {
   "cell_type": "code",
   "execution_count": null,
   "metadata": {},
   "outputs": [],
   "source": [
    "melted_df.shape"
   ]
  },
  {
   "cell_type": "code",
   "execution_count": 144,
   "metadata": {},
   "outputs": [
    {
     "data": {
      "image/png": "[encoded data removed]",
      "text/plain": [
       "<matplotlib.figure.Figure at 0x7f880da63dd8>"
      ]
     },
     "metadata": {},
     "output_type": "display_data"
    }
   ],
   "source": [
    "ax = plt.subplot2grid((2, 2), (0, 0))\n",
    "ax1 = plt.subplot2grid((2, 2), (0, 0), colspan=1)\n",
    "melted2['isRobot'].plot(kind=\"hist\",ax=ax1)\n",
    "\n",
    "ax2 = plt.subplot2grid((2, 2), (0, 1), colspan=1)\n",
    "ax3 = plt.subplot2grid((2, 2), (1, 0), colspan=2)\n"
   ]
  },
  {
   "cell_type": "code",
   "execution_count": null,
   "metadata": {
    "collapsed": true
   },
   "outputs": [],
   "source": [
    "ax.plot(kind='hist')"
   ]
  }
 ],
 "metadata": {
  "anaconda-cloud": {},
  "kernelspec": {
   "display_name": "Python 3",
   "language": "python",
   "name": "python3"
  },
  "language_info": {
   "codemirror_mode": {
    "name": "ipython",
    "version": 3
   },
   "file_extension": ".py",
   "mimetype": "text/x-python",
   "name": "python",
   "nbconvert_exporter": "python",
   "pygments_lexer": "ipython3",
   "version": "3.6.3"
  }
 },
 "nbformat": 4,
 "nbformat_minor": 2
}
